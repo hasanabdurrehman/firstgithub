{
 "cells": [
  {
   "cell_type": "markdown",
   "id": "309342c0",
   "metadata": {},
   "source": [
    "  # -Indexing"
   ]
  },
  {
   "cell_type": "code",
   "execution_count": 1,
   "id": "400f95f7",
   "metadata": {},
   "outputs": [
    {
     "data": {
      "text/plain": [
       "'samosa pakora'"
      ]
     },
     "execution_count": 1,
     "metadata": {},
     "output_type": "execute_result"
    }
   ],
   "source": [
    "a=\"samosa pakora\"\n",
    "a"
   ]
  },
  {
   "cell_type": "code",
   "execution_count": 2,
   "id": "11c03a15",
   "metadata": {},
   "outputs": [
    {
     "data": {
      "text/plain": [
       "'s'"
      ]
     },
     "execution_count": 2,
     "metadata": {},
     "output_type": "execute_result"
    }
   ],
   "source": [
    "a[0]"
   ]
  },
  {
   "cell_type": "code",
   "execution_count": 3,
   "id": "4b378661",
   "metadata": {},
   "outputs": [
    {
     "data": {
      "text/plain": [
       "' '"
      ]
     },
     "execution_count": 3,
     "metadata": {},
     "output_type": "execute_result"
    }
   ],
   "source": [
    "a[6]"
   ]
  },
  {
   "cell_type": "code",
   "execution_count": 4,
   "id": "ac5a3e12",
   "metadata": {},
   "outputs": [
    {
     "data": {
      "text/plain": [
       "13"
      ]
     },
     "execution_count": 4,
     "metadata": {},
     "output_type": "execute_result"
    }
   ],
   "source": [
    "#to find lenght of an index\n",
    "len(a)\n"
   ]
  },
  {
   "cell_type": "code",
   "execution_count": 5,
   "id": "7453e431",
   "metadata": {},
   "outputs": [
    {
     "data": {
      "text/plain": [
       "'samos'"
      ]
     },
     "execution_count": 5,
     "metadata": {},
     "output_type": "execute_result"
    }
   ],
   "source": [
    "a[0:5]"
   ]
  },
  {
   "cell_type": "code",
   "execution_count": 7,
   "id": "1d4f1610",
   "metadata": {},
   "outputs": [
    {
     "data": {
      "text/plain": [
       "'samosa'"
      ]
     },
     "execution_count": 7,
     "metadata": {},
     "output_type": "execute_result"
    }
   ],
   "source": [
    "# last index is exclusive\n",
    "a[0:6]\n"
   ]
  },
  {
   "cell_type": "code",
   "execution_count": 8,
   "id": "d41ce321",
   "metadata": {},
   "outputs": [
    {
     "data": {
      "text/plain": [
       "'samosa pakora'"
      ]
     },
     "execution_count": 8,
     "metadata": {},
     "output_type": "execute_result"
    }
   ],
   "source": [
    "a[0:13]\n",
    "a"
   ]
  },
  {
   "cell_type": "code",
   "execution_count": 14,
   "id": "51640575",
   "metadata": {},
   "outputs": [
    {
     "data": {
      "text/plain": [
       "'samosa pakora'"
      ]
     },
     "execution_count": 14,
     "metadata": {},
     "output_type": "execute_result"
    }
   ],
   "source": [
    "a[-6:13]\n",
    "a"
   ]
  },
  {
   "cell_type": "markdown",
   "id": "4d90572b",
   "metadata": {},
   "source": [
    "# String"
   ]
  },
  {
   "cell_type": "code",
   "execution_count": 15,
   "id": "92c4eb13",
   "metadata": {},
   "outputs": [
    {
     "data": {
      "text/plain": [
       "'biryani'"
      ]
     },
     "execution_count": 15,
     "metadata": {},
     "output_type": "execute_result"
    }
   ],
   "source": [
    "food=\"biryani\"\n",
    "food"
   ]
  },
  {
   "cell_type": "code",
   "execution_count": 16,
   "id": "14e9087f",
   "metadata": {},
   "outputs": [
    {
     "data": {
      "text/plain": [
       "7"
      ]
     },
     "execution_count": 16,
     "metadata": {},
     "output_type": "execute_result"
    }
   ],
   "source": [
    "len(food)"
   ]
  },
  {
   "cell_type": "code",
   "execution_count": 17,
   "id": "31c5f712",
   "metadata": {},
   "outputs": [
    {
     "data": {
      "text/plain": [
       "'Biryani'"
      ]
     },
     "execution_count": 17,
     "metadata": {},
     "output_type": "execute_result"
    }
   ],
   "source": [
    "# capitalize every word\n",
    "food.capitalize()\n"
   ]
  },
  {
   "cell_type": "code",
   "execution_count": 18,
   "id": "f5c28927",
   "metadata": {},
   "outputs": [
    {
     "data": {
      "text/plain": [
       "'BIRYANI'"
      ]
     },
     "execution_count": 18,
     "metadata": {},
     "output_type": "execute_result"
    }
   ],
   "source": [
    "#uppercase every letter\n",
    "food.upper()\n"
   ]
  },
  {
   "cell_type": "code",
   "execution_count": 19,
   "id": "76da5f3e",
   "metadata": {},
   "outputs": [
    {
     "data": {
      "text/plain": [
       "'biryani'"
      ]
     },
     "execution_count": 19,
     "metadata": {},
     "output_type": "execute_result"
    }
   ],
   "source": [
    "#lowercase every letter\n",
    "food.lower()"
   ]
  },
  {
   "cell_type": "code",
   "execution_count": 20,
   "id": "a5954cae",
   "metadata": {},
   "outputs": [
    {
     "data": {
      "text/plain": [
       "'shiryani'"
      ]
     },
     "execution_count": 20,
     "metadata": {},
     "output_type": "execute_result"
    }
   ],
   "source": [
    "replace\n",
    "food.replace(\"b\",\"sh\")"
   ]
  },
  {
   "cell_type": "code",
   "execution_count": 21,
   "id": "1074e1c4",
   "metadata": {},
   "outputs": [
    {
     "data": {
      "text/plain": [
       "'baba ammar with Dr Ammar Tufail'"
      ]
     },
     "execution_count": 21,
     "metadata": {},
     "output_type": "execute_result"
    }
   ],
   "source": [
    "#counting an specific alphabet in a string\n",
    "name=(\"baba ammar with Dr Ammar Tufail\")\n",
    "name"
   ]
  },
  {
   "cell_type": "code",
   "execution_count": 24,
   "id": "76b35e9f",
   "metadata": {},
   "outputs": [
    {
     "data": {
      "text/plain": [
       "6"
      ]
     },
     "execution_count": 24,
     "metadata": {},
     "output_type": "execute_result"
    }
   ],
   "source": [
    "name.count(\"a\")"
   ]
  },
  {
   "cell_type": "markdown",
   "id": "930288eb",
   "metadata": {},
   "source": [
    "### Finding an index numbr in string ###"
   ]
  },
  {
   "cell_type": "code",
   "execution_count": 25,
   "id": "913b4223",
   "metadata": {},
   "outputs": [
    {
     "data": {
      "text/plain": [
       "'baba ammar with dr ammar tufail'"
      ]
     },
     "execution_count": 25,
     "metadata": {},
     "output_type": "execute_result"
    }
   ],
   "source": [
    "name=(\"baba ammar with dr ammar tufail\")\n",
    "name\n"
   ]
  },
  {
   "cell_type": "code",
   "execution_count": 27,
   "id": "a8d16e25",
   "metadata": {},
   "outputs": [
    {
     "data": {
      "text/plain": [
       "1"
      ]
     },
     "execution_count": 27,
     "metadata": {},
     "output_type": "execute_result"
    }
   ],
   "source": [
    "name.find(\"a\")"
   ]
  },
  {
   "cell_type": "markdown",
   "id": "c9d81374",
   "metadata": {},
   "source": [
    "### how to split a string ###"
   ]
  },
  {
   "cell_type": "code",
   "execution_count": 28,
   "id": "74104f5a",
   "metadata": {},
   "outputs": [
    {
     "data": {
      "text/plain": [
       "'I love samosa, pakora, raita, biryani and karahi'"
      ]
     },
     "execution_count": 28,
     "metadata": {},
     "output_type": "execute_result"
    }
   ],
   "source": [
    "food= \"I love samosa, pakora, raita, biryani and karahi\"\n",
    "food\n"
   ]
  },
  {
   "cell_type": "code",
   "execution_count": 29,
   "id": "ef47f9a7",
   "metadata": {},
   "outputs": [
    {
     "data": {
      "text/plain": [
       "['I love samosa', ' pakora', ' raita', ' biryani and karahi']"
      ]
     },
     "execution_count": 29,
     "metadata": {},
     "output_type": "execute_result"
    }
   ],
   "source": [
    "food.split(\",\")"
   ]
  },
  {
   "cell_type": "markdown",
   "id": "2b8327dc",
   "metadata": {},
   "source": [
    "### Data Structures ###"
   ]
  },
  {
   "cell_type": "markdown",
   "id": "90064ab1",
   "metadata": {},
   "source": [
    "1- Tuple\n",
    "2- List\n",
    "3- Dictionaries\n",
    "4- Set"
   ]
  },
  {
   "cell_type": "markdown",
   "id": "3e768286",
   "metadata": {},
   "source": [
    "## -1 Tuple  ###"
   ]
  },
  {
   "cell_type": "markdown",
   "id": "7f3b0447",
   "metadata": {},
   "source": [
    "- Ordered Collecion of elements/data types\n",
    "- enclosed in round braces ()/ paranthesis\n",
    "- different kind of elements/data types can be store\n",
    "- once elements are stored you cannot change them(unmutatble)m"
   ]
  },
  {
   "cell_type": "code",
   "execution_count": 31,
   "id": "3f670bd8",
   "metadata": {},
   "outputs": [
    {
     "data": {
      "text/plain": [
       "(1, 'hello', 2.3, True)"
      ]
     },
     "execution_count": 31,
     "metadata": {},
     "output_type": "execute_result"
    }
   ],
   "source": [
    "tup1=(1,\"hello\",2.3,True)\n",
    "tup1"
   ]
  },
  {
   "cell_type": "code",
   "execution_count": 32,
   "id": "6a312997",
   "metadata": {},
   "outputs": [],
   "source": [
    "#type of tuple"
   ]
  },
  {
   "cell_type": "code",
   "execution_count": 33,
   "id": "d4f3512b",
   "metadata": {},
   "outputs": [
    {
     "data": {
      "text/plain": [
       "tuple"
      ]
     },
     "execution_count": 33,
     "metadata": {},
     "output_type": "execute_result"
    }
   ],
   "source": [
    "type(tup1)"
   ]
  },
  {
   "cell_type": "markdown",
   "id": "179fdb69",
   "metadata": {},
   "source": [
    "### Indexing in Tuple ###"
   ]
  },
  {
   "cell_type": "code",
   "execution_count": 39,
   "id": "8efd4ae6",
   "metadata": {},
   "outputs": [
    {
     "data": {
      "text/plain": [
       "(1, 'hello,', 2.3, True)"
      ]
     },
     "execution_count": 39,
     "metadata": {},
     "output_type": "execute_result"
    }
   ],
   "source": [
    "tup1=(1,\"hello,\",2.3,True)\n",
    "tup1"
   ]
  },
  {
   "cell_type": "code",
   "execution_count": 40,
   "id": "c53f477c",
   "metadata": {},
   "outputs": [
    {
     "data": {
      "text/plain": [
       "'hello,'"
      ]
     },
     "execution_count": 40,
     "metadata": {},
     "output_type": "execute_result"
    }
   ],
   "source": [
    "tup1[1]"
   ]
  },
  {
   "cell_type": "code",
   "execution_count": 41,
   "id": "f2f624f8",
   "metadata": {},
   "outputs": [
    {
     "data": {
      "text/plain": [
       "True"
      ]
     },
     "execution_count": 41,
     "metadata": {},
     "output_type": "execute_result"
    }
   ],
   "source": [
    "tup1[3]\n"
   ]
  },
  {
   "cell_type": "code",
   "execution_count": 42,
   "id": "dd948729",
   "metadata": {},
   "outputs": [
    {
     "data": {
      "text/plain": [
       "(1, 'hello,', 2.3, True)"
      ]
     },
     "execution_count": 42,
     "metadata": {},
     "output_type": "execute_result"
    }
   ],
   "source": [
    "tup1[0:4]"
   ]
  },
  {
   "cell_type": "code",
   "execution_count": 43,
   "id": "8809b30a",
   "metadata": {},
   "outputs": [],
   "source": [
    "# count of elements in tuple"
   ]
  },
  {
   "cell_type": "code",
   "execution_count": 44,
   "id": "0fc22226",
   "metadata": {},
   "outputs": [
    {
     "data": {
      "text/plain": [
       "4"
      ]
     },
     "execution_count": 44,
     "metadata": {},
     "output_type": "execute_result"
    }
   ],
   "source": [
    "len(tup1)"
   ]
  },
  {
   "cell_type": "code",
   "execution_count": 45,
   "id": "abd2b17d",
   "metadata": {},
   "outputs": [],
   "source": [
    "# concatenating 2 tuples or more than two \n"
   ]
  },
  {
   "cell_type": "code",
   "execution_count": 47,
   "id": "2a9a188a",
   "metadata": {},
   "outputs": [
    {
     "data": {
      "text/plain": [
       "(15, 'hasan', 8.5, False)"
      ]
     },
     "execution_count": 47,
     "metadata": {},
     "output_type": "execute_result"
    }
   ],
   "source": [
    "tup2=(15,\"hasan\",8.5,False)\n",
    "tup2"
   ]
  },
  {
   "cell_type": "code",
   "execution_count": 49,
   "id": "e58dd4dd",
   "metadata": {},
   "outputs": [
    {
     "data": {
      "text/plain": [
       "(15, 'hasan', 8.5, False, 15, 'hasan', 8.5, False)"
      ]
     },
     "execution_count": 49,
     "metadata": {},
     "output_type": "execute_result"
    }
   ],
   "source": [
    "tup1+tup2\n"
   ]
  },
  {
   "cell_type": "code",
   "execution_count": 50,
   "id": "f68e7375",
   "metadata": {},
   "outputs": [
    {
     "data": {
      "text/plain": [
       "(15, 'hasan', 8.5, False, 15, 'hasan', 8.5, False, 15, 'hasan', 8.5, False)"
      ]
     },
     "execution_count": 50,
     "metadata": {},
     "output_type": "execute_result"
    }
   ],
   "source": [
    "tup1*2+tup2"
   ]
  },
  {
   "cell_type": "code",
   "execution_count": 51,
   "id": "17bf1019",
   "metadata": {},
   "outputs": [
    {
     "data": {
      "text/plain": [
       "(20, 40, 80, 100, 150)"
      ]
     },
     "execution_count": 51,
     "metadata": {},
     "output_type": "execute_result"
    }
   ],
   "source": [
    "tup3=(20,40,80,100,150)\n",
    "tup3"
   ]
  },
  {
   "cell_type": "code",
   "execution_count": 52,
   "id": "01a17e63",
   "metadata": {},
   "outputs": [
    {
     "data": {
      "text/plain": [
       "150"
      ]
     },
     "execution_count": 52,
     "metadata": {},
     "output_type": "execute_result"
    }
   ],
   "source": [
    "max(tup3)"
   ]
  },
  {
   "cell_type": "code",
   "execution_count": 53,
   "id": "a3f24ffc",
   "metadata": {},
   "outputs": [
    {
     "data": {
      "text/plain": [
       "20"
      ]
     },
     "execution_count": 53,
     "metadata": {},
     "output_type": "execute_result"
    }
   ],
   "source": [
    "min(tup3)"
   ]
  },
  {
   "cell_type": "code",
   "execution_count": 54,
   "id": "fcf0a458",
   "metadata": {},
   "outputs": [
    {
     "data": {
      "text/plain": [
       "(20,\n",
       " 40,\n",
       " 80,\n",
       " 100,\n",
       " 150,\n",
       " 20,\n",
       " 40,\n",
       " 80,\n",
       " 100,\n",
       " 150,\n",
       " 20,\n",
       " 40,\n",
       " 80,\n",
       " 100,\n",
       " 150,\n",
       " 20,\n",
       " 40,\n",
       " 80,\n",
       " 100,\n",
       " 150)"
      ]
     },
     "execution_count": 54,
     "metadata": {},
     "output_type": "execute_result"
    }
   ],
   "source": [
    "tup3*4"
   ]
  },
  {
   "cell_type": "markdown",
   "id": "5e7a2744",
   "metadata": {},
   "source": [
    "---"
   ]
  },
  {
   "cell_type": "markdown",
   "id": "8ca9110f",
   "metadata": {},
   "source": [
    "### 2- List ###"
   ]
  },
  {
   "cell_type": "markdown",
   "id": "7367d608",
   "metadata": {},
   "source": [
    "- Ordered collection of elements\n",
    "- enlosed in sqaure [] brackets/braces\n",
    "- Mutateable, you can change the values"
   ]
  },
  {
   "cell_type": "code",
   "execution_count": 68,
   "id": "3b2e3a1c",
   "metadata": {},
   "outputs": [
    {
     "data": {
      "text/plain": [
       "[2, 'hasan', 2.2, True]"
      ]
     },
     "execution_count": 68,
     "metadata": {},
     "output_type": "execute_result"
    }
   ],
   "source": [
    "list1=[2,\"hasan\",2.2,True]\n",
    "list1"
   ]
  },
  {
   "cell_type": "code",
   "execution_count": 57,
   "id": "e568577c",
   "metadata": {},
   "outputs": [
    {
     "data": {
      "text/plain": [
       "list"
      ]
     },
     "execution_count": 57,
     "metadata": {},
     "output_type": "execute_result"
    }
   ],
   "source": [
    "type(list1)"
   ]
  },
  {
   "cell_type": "code",
   "execution_count": 58,
   "id": "0de76acc",
   "metadata": {},
   "outputs": [
    {
     "data": {
      "text/plain": [
       "4"
      ]
     },
     "execution_count": 58,
     "metadata": {},
     "output_type": "execute_result"
    }
   ],
   "source": [
    "len(list1)"
   ]
  },
  {
   "cell_type": "code",
   "execution_count": 59,
   "id": "6e136a47",
   "metadata": {},
   "outputs": [
    {
     "data": {
      "text/plain": [
       "2.2"
      ]
     },
     "execution_count": 59,
     "metadata": {},
     "output_type": "execute_result"
    }
   ],
   "source": [
    "list1[2]"
   ]
  },
  {
   "cell_type": "code",
   "execution_count": 61,
   "id": "539e1a78",
   "metadata": {},
   "outputs": [
    {
     "data": {
      "text/plain": [
       "[5, 'rehman', 'codanics', 560, 20.2, False]"
      ]
     },
     "execution_count": 61,
     "metadata": {},
     "output_type": "execute_result"
    }
   ],
   "source": [
    "list2=[5,\"rehman\",\"codanics\",560,20.2,False]\n",
    "list2"
   ]
  },
  {
   "cell_type": "code",
   "execution_count": 62,
   "id": "7ee86c63",
   "metadata": {},
   "outputs": [
    {
     "data": {
      "text/plain": [
       "[2, 'hasan', 2.2, True, 5, 'rehman', 'codanics', 560, 20.2, False]"
      ]
     },
     "execution_count": 62,
     "metadata": {},
     "output_type": "execute_result"
    }
   ],
   "source": [
    "list1 + list2"
   ]
  },
  {
   "cell_type": "code",
   "execution_count": 63,
   "id": "bbf7e63d",
   "metadata": {},
   "outputs": [
    {
     "data": {
      "text/plain": [
       "[2, 'hasan', 2.2, True, 2, 'hasan', 2.2, True]"
      ]
     },
     "execution_count": 63,
     "metadata": {},
     "output_type": "execute_result"
    }
   ],
   "source": [
    "list1*2"
   ]
  },
  {
   "cell_type": "code",
   "execution_count": 69,
   "id": "d4c9a0f2",
   "metadata": {},
   "outputs": [
    {
     "data": {
      "text/plain": [
       "[True, 2.2, 'hasan', 2]"
      ]
     },
     "execution_count": 69,
     "metadata": {},
     "output_type": "execute_result"
    }
   ],
   "source": [
    "list1.reverse()\n",
    "list1"
   ]
  },
  {
   "cell_type": "code",
   "execution_count": 71,
   "id": "7edec19f",
   "metadata": {},
   "outputs": [
    {
     "data": {
      "text/plain": [
       "[True, 2.2, 'hasan', 2, 'Codanics with Ammar', 'Codanics with Ammar']"
      ]
     },
     "execution_count": 71,
     "metadata": {},
     "output_type": "execute_result"
    }
   ],
   "source": [
    "list1.append(\"Codanics with Ammar\")\n",
    "list1"
   ]
  },
  {
   "cell_type": "code",
   "execution_count": 77,
   "id": "8964b187",
   "metadata": {},
   "outputs": [
    {
     "name": "stdout",
     "output_type": "stream",
     "text": [
      "count of 2: 1\n"
     ]
    }
   ],
   "source": [
    "count=list1.count(2)\n",
    "print('count of 2:',count)"
   ]
  },
  {
   "cell_type": "code",
   "execution_count": 78,
   "id": "b300c376",
   "metadata": {},
   "outputs": [
    {
     "data": {
      "text/plain": [
       "[20, 10, 50, 68, 23, 9, 4, 200]"
      ]
     },
     "execution_count": 78,
     "metadata": {},
     "output_type": "execute_result"
    }
   ],
   "source": [
    "list3=[20,10,50,68,23,9,4,200]\n",
    "list3"
   ]
  },
  {
   "cell_type": "code",
   "execution_count": 79,
   "id": "255eda5d",
   "metadata": {},
   "outputs": [
    {
     "data": {
      "text/plain": [
       "8"
      ]
     },
     "execution_count": 79,
     "metadata": {},
     "output_type": "execute_result"
    }
   ],
   "source": [
    "len(list3)"
   ]
  },
  {
   "cell_type": "code",
   "execution_count": 80,
   "id": "825307f8",
   "metadata": {},
   "outputs": [],
   "source": [
    "#sorting a list"
   ]
  },
  {
   "cell_type": "code",
   "execution_count": 81,
   "id": "2cbc5750",
   "metadata": {},
   "outputs": [
    {
     "data": {
      "text/plain": [
       "[4, 9, 10, 20, 23, 50, 68, 200]"
      ]
     },
     "execution_count": 81,
     "metadata": {},
     "output_type": "execute_result"
    }
   ],
   "source": [
    "list3.sort()\n",
    "list3\n"
   ]
  },
  {
   "cell_type": "markdown",
   "id": "0721bca7",
   "metadata": {},
   "source": [
    "### -3 Dictionaries ###"
   ]
  },
  {
   "cell_type": "markdown",
   "id": "cf74d289",
   "metadata": {},
   "source": [
    "- unordered collection of elements\n",
    "- key and value\n",
    "- curly bracket or braces {}\n",
    "- mutateable"
   ]
  },
  {
   "cell_type": "code",
   "execution_count": 82,
   "id": "ecd8812b",
   "metadata": {},
   "outputs": [
    {
     "data": {
      "text/plain": [
       "{'samosa': 30, 'Raita': 20, 'pakora': 100, 'chicken Roll': 50}"
      ]
     },
     "execution_count": 82,
     "metadata": {},
     "output_type": "execute_result"
    }
   ],
   "source": [
    "#Food and their prices\n",
    "food1={\"samosa\":30,\"Raita\":20,\"pakora\":100,\"chicken Roll\":50}\n",
    "food1"
   ]
  },
  {
   "cell_type": "code",
   "execution_count": 83,
   "id": "3c7c8b6a",
   "metadata": {},
   "outputs": [
    {
     "data": {
      "text/plain": [
       "dict"
      ]
     },
     "execution_count": 83,
     "metadata": {},
     "output_type": "execute_result"
    }
   ],
   "source": [
    "type(food1)"
   ]
  },
  {
   "cell_type": "code",
   "execution_count": 90,
   "id": "e701db8f",
   "metadata": {},
   "outputs": [],
   "source": [
    "#extract keys and values"
   ]
  },
  {
   "cell_type": "code",
   "execution_count": 87,
   "id": "0ca8cf48",
   "metadata": {},
   "outputs": [
    {
     "data": {
      "text/plain": [
       "dict_keys(['samosa', 'Raita', 'pakora', 'chicken Roll'])"
      ]
     },
     "execution_count": 87,
     "metadata": {},
     "output_type": "execute_result"
    }
   ],
   "source": [
    "key1=food1.keys()\n",
    "key1"
   ]
  },
  {
   "cell_type": "code",
   "execution_count": 89,
   "id": "dd4c3d84",
   "metadata": {},
   "outputs": [
    {
     "data": {
      "text/plain": [
       "dict_values([30, 20, 100, 50])"
      ]
     },
     "execution_count": 89,
     "metadata": {},
     "output_type": "execute_result"
    }
   ],
   "source": [
    "value1=food1.values()\n",
    "value1"
   ]
  },
  {
   "cell_type": "code",
   "execution_count": 91,
   "id": "6219b50c",
   "metadata": {},
   "outputs": [],
   "source": [
    "# adding new element"
   ]
  },
  {
   "cell_type": "code",
   "execution_count": 93,
   "id": "45bd4556",
   "metadata": {},
   "outputs": [
    {
     "data": {
      "text/plain": [
       "{'samosa': 30, 'Raita': 20, 'pakora': 100, 'chicken Roll': 50, 'tikki': 10}"
      ]
     },
     "execution_count": 93,
     "metadata": {},
     "output_type": "execute_result"
    }
   ],
   "source": [
    "food1[\"tikki\"]=10\n",
    "food1"
   ]
  },
  {
   "cell_type": "code",
   "execution_count": 94,
   "id": "aef90839",
   "metadata": {},
   "outputs": [],
   "source": [
    "# update the values"
   ]
  },
  {
   "cell_type": "code",
   "execution_count": 95,
   "id": "bf8bee77",
   "metadata": {},
   "outputs": [
    {
     "data": {
      "text/plain": [
       "{'samosa': 30, 'Raita': 20, 'pakora': 100, 'chicken Roll': 50, 'tikki': 15}"
      ]
     },
     "execution_count": 95,
     "metadata": {},
     "output_type": "execute_result"
    }
   ],
   "source": [
    "food1[\"tikki\"]=15\n",
    "food1"
   ]
  },
  {
   "cell_type": "code",
   "execution_count": 96,
   "id": "17d89923",
   "metadata": {},
   "outputs": [
    {
     "data": {
      "text/plain": [
       "{'dates': 50, 'chocolates': 200, 'sawaiyan': 1000}"
      ]
     },
     "execution_count": 96,
     "metadata": {},
     "output_type": "execute_result"
    }
   ],
   "source": [
    "food2={\"dates\":50,\"chocolates\":200,\"sawaiyan\":1000,}\n",
    "food2"
   ]
  },
  {
   "cell_type": "code",
   "execution_count": 97,
   "id": "4de6f23f",
   "metadata": {},
   "outputs": [],
   "source": [
    "#concatinate\n"
   ]
  },
  {
   "cell_type": "code",
   "execution_count": 98,
   "id": "3ae8119d",
   "metadata": {},
   "outputs": [
    {
     "data": {
      "text/plain": [
       "{'samosa': 30,\n",
       " 'Raita': 20,\n",
       " 'pakora': 100,\n",
       " 'chicken Roll': 50,\n",
       " 'tikki': 15,\n",
       " 'dates': 50,\n",
       " 'chocolates': 200,\n",
       " 'sawaiyan': 1000}"
      ]
     },
     "execution_count": 98,
     "metadata": {},
     "output_type": "execute_result"
    }
   ],
   "source": [
    "food1.update(food2)\n",
    "food1"
   ]
  },
  {
   "cell_type": "markdown",
   "id": "52fdba3f",
   "metadata": {},
   "source": [
    "### 4- Sets ###"
   ]
  },
  {
   "cell_type": "markdown",
   "id": "3a0b1c6f",
   "metadata": {},
   "source": [
    "- unordered and unindexed\n",
    "- curly braces\n",
    "- no duplicates allowed\n"
   ]
  },
  {
   "cell_type": "code",
   "execution_count": 99,
   "id": "21dc8181",
   "metadata": {},
   "outputs": [
    {
     "data": {
      "text/plain": [
       "{1, 2.2, 5.2, 'ammar', 'codanics', 'faisalabad'}"
      ]
     },
     "execution_count": 99,
     "metadata": {},
     "output_type": "execute_result"
    }
   ],
   "source": [
    "s1={1,2.2,5.2, \"ammar\",\"codanics\",\"faisalabad\",True}\n",
    "s1"
   ]
  },
  {
   "cell_type": "code",
   "execution_count": 100,
   "id": "1c997588",
   "metadata": {},
   "outputs": [
    {
     "data": {
      "text/plain": [
       "{1, 2.2, 5.2, 'ammar', 'ammar1', 'codanics', 'faisalabad'}"
      ]
     },
     "execution_count": 100,
     "metadata": {},
     "output_type": "execute_result"
    }
   ],
   "source": [
    "s1.add(\"ammar1\")\n",
    "s1"
   ]
  },
  {
   "cell_type": "code",
   "execution_count": 101,
   "id": "0816f595",
   "metadata": {},
   "outputs": [
    {
     "data": {
      "text/plain": [
       "{1, 2.2, 5.2, 'ammar', 'codanics', 'faisalabad'}"
      ]
     },
     "execution_count": 101,
     "metadata": {},
     "output_type": "execute_result"
    }
   ],
   "source": [
    "s1.remove(\"ammar1\")\n",
    "s1"
   ]
  },
  {
   "cell_type": "code",
   "execution_count": null,
   "id": "7109a33b",
   "metadata": {},
   "outputs": [],
   "source": []
  }
 ],
 "metadata": {
  "kernelspec": {
   "display_name": "Python 3 (ipykernel)",
   "language": "python",
   "name": "python3"
  },
  "language_info": {
   "codemirror_mode": {
    "name": "ipython",
    "version": 3
   },
   "file_extension": ".py",
   "mimetype": "text/x-python",
   "name": "python",
   "nbconvert_exporter": "python",
   "pygments_lexer": "ipython3",
   "version": "3.9.12"
  }
 },
 "nbformat": 4,
 "nbformat_minor": 5
}
