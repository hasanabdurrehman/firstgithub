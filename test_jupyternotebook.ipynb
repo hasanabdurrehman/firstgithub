{
 "cells": [
  {
   "cell_type": "markdown",
   "id": "2c813a13",
   "metadata": {},
   "source": [
    "# Python ka Chilla with Baba Ammar\n",
    "## How to use jupyter notebook\n",
    "### Basics of Python\n",
    "**01** **My First Program**"
   ]
  },
  {
   "cell_type": "code",
   "execution_count": 1,
   "id": "b7589969",
   "metadata": {
    "scrolled": true
   },
   "outputs": [
    {
     "name": "stdout",
     "output_type": "stream",
     "text": [
      "5\n",
      "hello world\n",
      "we are learning python with ammar\n"
     ]
    }
   ],
   "source": [
    "print (2+3)\n",
    "print (\"hello world\")\n",
    "print (\"we are learning python with ammar\")"
   ]
  },
  {
   "cell_type": "markdown",
   "id": "4c418bbc",
   "metadata": {},
   "source": [
    "**02** **Operators**"
   ]
  },
  {
   "cell_type": "code",
   "execution_count": 2,
   "id": "f900bfcd",
   "metadata": {},
   "outputs": [
    {
     "name": "stdout",
     "output_type": "stream",
     "text": [
      "3\n",
      "0\n",
      "1.0\n",
      "1\n",
      "1\n",
      "8\n",
      "6.5\n"
     ]
    }
   ],
   "source": [
    " print (2+1)\n",
    " print (2-2)\n",
    " print (2/2)\n",
    " print (9%4)\n",
    " print (2//2)\n",
    " print (2**3)\n",
    "\n",
    "print(3**2/2*3/3+6-4) \n",
    "\n"
   ]
  },
  {
   "cell_type": "markdown",
   "id": "c303bc91",
   "metadata": {},
   "source": [
    " **PEMDAS (paranthesis exponent multiply divide add subtratc)**"
   ]
  },
  {
   "cell_type": "markdown",
   "id": "24c2d600",
   "metadata": {},
   "source": [
    "**03** **Strings**"
   ]
  },
  {
   "cell_type": "code",
   "execution_count": 3,
   "id": "963abb5c",
   "metadata": {},
   "outputs": [
    {
     "name": "stdout",
     "output_type": "stream",
     "text": [
      "hello world\n",
      "w are learning python with ammar\n",
      "test for sigle qoute\n",
      "test for double qoute\n",
      "test for triple qoute\n",
      "hasan's world\n"
     ]
    }
   ],
   "source": [
    "print (\"hello world\")\n",
    "print (\"w are learning python with ammar\")\n",
    "print ('test for sigle qoute')\n",
    "print (\"test for double qoute\")\n",
    "print ('''test for triple qoute''')\n",
    "\n",
    "print (\"hasan's world\")\n"
   ]
  },
  {
   "cell_type": "markdown",
   "id": "c1d68397",
   "metadata": {},
   "source": [
    "**04** **Comments**"
   ]
  },
  {
   "cell_type": "code",
   "execution_count": 4,
   "id": "e323e339",
   "metadata": {
    "scrolled": true
   },
   "outputs": [
    {
     "name": "stdout",
     "output_type": "stream",
     "text": [
      "hello world\n",
      "we are learning pyrhon with ammar\n",
      "8\n"
     ]
    }
   ],
   "source": [
    "print (\"hello world\") # press # to comment out or press ctl and /\n",
    "print (\"we are learning pyrhon with ammar\")  #this is to print this\n",
    "print(3+5)  # this is to carry out a operator function"
   ]
  },
  {
   "cell_type": "markdown",
   "id": "2caa4871",
   "metadata": {},
   "source": [
    "**05** **variables**"
   ]
  },
  {
   "cell_type": "code",
   "execution_count": 5,
   "id": "084afec4",
   "metadata": {
    "scrolled": true
   },
   "outputs": [
    {
     "name": "stdout",
     "output_type": "stream",
     "text": [
      "5\n",
      "we are learning python with ammar\n",
      "15\n",
      "<class 'int'>\n",
      "<class 'str'>\n",
      "mangoes\n"
     ]
    }
   ],
   "source": [
    "# variable= objects containing speciic values\n",
    "\n",
    "\n",
    "\n",
    "x=5\n",
    "print (x)\n",
    "\n",
    "y=(\"we are learning python with ammar\")\n",
    "print (y)\n",
    "\n",
    "\n",
    "x= x+10  # or x= 15\n",
    "print (x)\n",
    "\n",
    "\n",
    "\n",
    "#types/class of variables\n",
    "\n",
    "print(type(x))\n",
    "print(type(y))\n",
    "\n",
    "\n",
    "     \n",
    "fruit_basket=(\"mangoes\")\n",
    "print(fruit_basket)     "
   ]
  },
  {
   "cell_type": "markdown",
   "id": "e4f89360",
   "metadata": {},
   "source": [
    "*rules to assign a variable\n",
    "\n",
    "1- the variable should contain letter number or underscores\n",
    "\n",
    "2- donot start with numbers\n",
    "\n",
    "3- spaces are not alowed\n",
    "\n",
    "4 dont use keywords used in python\n",
    "\n",
    "5 short and descriptive\n",
    "\n",
    "6 case sensitivity (lower case , upper case, lower cases should be used)*\n"
   ]
  },
  {
   "cell_type": "markdown",
   "id": "918b8200",
   "metadata": {},
   "source": [
    "**06** **Input Variables**"
   ]
  },
  {
   "cell_type": "code",
   "execution_count": 6,
   "id": "c86edede",
   "metadata": {},
   "outputs": [
    {
     "name": "stdout",
     "output_type": "stream",
     "text": [
      "mangoes\n",
      "what's your favourite fruitmango\n",
      "mango\n",
      "What is your namehasan\n",
      "hello hasan\n",
      "what is your namehuzaifa\n",
      "what is your age21\n",
      "hello huzaifa , you are still young\n"
     ]
    }
   ],
   "source": [
    " fruit_basket=(\"mangoes\")\n",
    " print (fruit_basket)\n",
    "\n",
    "#simple input function\n",
    "fruit_basket= input (\"what's your favourite fruit\")\n",
    "print (fruit_basket)\n",
    "\n",
    " #input function of second stage\n",
    " name= input(\"What is your name\")\n",
    " greetings=(\"hello\")\n",
    " print(greetings, name)\n",
    "\n",
    "  \n",
    "# 3rd stage of input funcion\n",
    "name= input(\"what is your name\")\n",
    "age=input(\"what is your age\")\n",
    "greetings= (\"hello\")\n",
    "print(greetings,name,\", you are still young\")"
   ]
  },
  {
   "cell_type": "markdown",
   "id": "48e1945b",
   "metadata": {},
   "source": [
    "**07** **Conditonal Logics**"
   ]
  },
  {
   "cell_type": "code",
   "execution_count": 7,
   "id": "4b5c1d4e",
   "metadata": {
    "scrolled": true
   },
   "outputs": [
    {
     "name": "stdout",
     "output_type": "stream",
     "text": [
      "False\n",
      "how old is hammad15\n",
      "False\n"
     ]
    }
   ],
   "source": [
    "#logical operators\n",
    "# logical operators are eithe true o false yes or no 0 or 1\n",
    "#  equal to                    ==\n",
    "#  mot equal to                !=\n",
    "#  less than                   <\n",
    "# greater than                 >\n",
    "#less than and equal to        <=\n",
    "#greater than and equal to      >=\n",
    "\n",
    "# is 4 equal to 4?\n",
    "#print (4==4)\n",
    "#print (4>4)\n",
    "#print (4!=4)\n",
    "#print (4>4)\n",
    "#print (4<=4)\n",
    "#print (4>=4)\n",
    "\n",
    "\n",
    "# application of  logical operators\n",
    "\n",
    "hammad_age=4\n",
    "school_age=5\n",
    "print (hammad_age==school_age)\n",
    "\n",
    "# input function and logical operators\n",
    "age_at_school=5\n",
    "hammad_age=input(\"how old is hammad\") # input fucntion\n",
    "hammad_age=int(hammad_age)\n",
    "print (hammad_age==age_at_school) #logical opeartions"
   ]
  },
  {
   "cell_type": "markdown",
   "id": "e08e6f3c",
   "metadata": {},
   "source": [
    "**08** **Type Conversion**"
   ]
  },
  {
   "cell_type": "code",
   "execution_count": 8,
   "id": "83686751",
   "metadata": {},
   "outputs": [
    {
     "name": "stdout",
     "output_type": "stream",
     "text": [
      "20.2 type of x is <class 'float'>\n",
      "enter you age21\n",
      "21 <class 'int'>\n"
     ]
    }
   ],
   "source": [
    "x=10   #integer\n",
    "y=10.2 #float\n",
    "z=\"hello world\" #string\n",
    "\n",
    "#implicit type conversion\n",
    "\n",
    "x=x+y\n",
    "print(x, \"type of x is\", type(x))\n",
    "\n",
    "# explicit conversion\n",
    "age=input(\"enter you age\")\n",
    "age=int(age)\n",
    "print (age,type(int(age)))"
   ]
  },
  {
   "cell_type": "markdown",
   "id": "b3582ebe",
   "metadata": {},
   "source": [
    "**09**  **If_Elif_Else**"
   ]
  },
  {
   "cell_type": "code",
   "execution_count": 9,
   "id": "70c40c62",
   "metadata": {},
   "outputs": [
    {
     "name": "stdout",
     "output_type": "stream",
     "text": [
      "how old are you16\n",
      "hammad cannot go to school\n"
     ]
    }
   ],
   "source": [
    "hammad_age=input(\"how old are you\")\n",
    "hammad_age=int(hammad_age)\n",
    "age_required_at_school=5\n",
    "#  can hammad go to school?\n",
    "\n",
    "if hammad_age==age_required_at_school:\n",
    "    print(\"Congrats Hammad can join the school\")\n",
    "elif hammad_age <= 2:\n",
    "    print(\"you shoukd take care of hammad,he is still a baby\")\n",
    "else:\n",
    "    print(\"hammad cannot go to school\")"
   ]
  },
  {
   "cell_type": "markdown",
   "id": "9884ddee",
   "metadata": {},
   "source": [
    "**10** **Functions**"
   ]
  },
  {
   "cell_type": "code",
   "execution_count": 10,
   "id": "ee9e73cc",
   "metadata": {
    "scrolled": true
   },
   "outputs": [
    {
     "name": "stdout",
     "output_type": "stream",
     "text": [
      "we are learning with ammar\n",
      "we are learning with ammar\n",
      "we are learning with ammar\n",
      "hammad should join a higher school\n",
      "38\n"
     ]
    }
   ],
   "source": [
    "# #  defining a function\n",
    "# def print_codanics():\n",
    " #   print (\"we are learning with ammar\")\n",
    "  #  print (\"we are learning with ammar\")\n",
    "   # print (\"we are learning with ammar\")\n",
    "    \n",
    "#print_codanics()\n",
    "\n",
    "# # 2\n",
    "# def print_codanics()\n",
    " #   text=\"we are learning with ammar\"\n",
    "  #  print(text)\n",
    "   # print(text)\n",
    "    #print(text)\n",
    "    \n",
    "#print_codanics()\n",
    "\n",
    "# 3\n",
    "def print_codanics(text):\n",
    "    print(text)\n",
    "    print(text)\n",
    "    print(text)\n",
    "print_codanics(\"we are learning with ammar\")\n",
    "\n",
    "#defining a funtion with if elif else\n",
    "\n",
    "def school_calculator(age):\n",
    "    if age==5:\n",
    "        print(\"hammad can join the school\")\n",
    "    elif age > 5:\n",
    "        print(\"hammad should join a higher school\")\n",
    "    else:\n",
    "            print(\"Hammad is still a baby\")\n",
    "    \n",
    "school_calculator(8)\n",
    "\n",
    "#defining a function of future\n",
    "\n",
    "def future_age(age):\n",
    "    new_age=age+20\n",
    "    return new_age\n",
    "    print(new_age)\n",
    "\n",
    "future_predicted_age=future_age(18)\n",
    "print(future_predicted_age)"
   ]
  },
  {
   "cell_type": "markdown",
   "id": "676f3b3d",
   "metadata": {},
   "source": [
    "**11** **loops**"
   ]
  },
  {
   "cell_type": "code",
   "execution_count": 11,
   "id": "069c0e7e",
   "metadata": {},
   "outputs": [
    {
     "name": "stdout",
     "output_type": "stream",
     "text": [
      "0\n",
      "1\n",
      "2\n",
      "3\n",
      "4\n",
      "5\n",
      "4\n",
      "5\n",
      "6\n",
      "7\n",
      "8\n",
      "9\n",
      "10\n",
      "mon\n",
      "tue\n",
      "wed\n",
      "thurs\n",
      "sat\n",
      "sun\n"
     ]
    }
   ],
   "source": [
    "#while and for loops\n",
    "\n",
    "# while loop\n",
    "x=0\n",
    "while (x<=5):\n",
    "     print(x)\n",
    "     x=x+1\n",
    "\n",
    "#for loop\n",
    "\n",
    "for x in range(4,11):\n",
    "     print(x)\n",
    "      \n",
    "\n",
    " #array\n",
    "days=[\"mon\",\"tue\",\"wed\",\"thurs\",\"fri\",\"sat\",\"sun\"]\n",
    "for d in days:\n",
    "    # if (d==\"thurs\"): break #loop stops\n",
    "    if (d==\"fri\"): continue #skips\n",
    "    print(d)"
   ]
  },
  {
   "cell_type": "markdown",
   "id": "1fc21586",
   "metadata": {},
   "source": [
    "**12** **Import Libraries**"
   ]
  },
  {
   "cell_type": "code",
   "execution_count": 12,
   "id": "ca1a03bb",
   "metadata": {},
   "outputs": [
    {
     "name": "stdout",
     "output_type": "stream",
     "text": [
      "the value of pi is 3.141592653589793\n",
      "275\n"
     ]
    }
   ],
   "source": [
    "# if you want to print vaue of pi\n",
    "\n",
    "import math\n",
    "print(\"the value of pi is\", math.pi)\n",
    "\n",
    "# if you want to calculate mean\n",
    "import statistics\n",
    "x=[150,250,250,450]\n",
    "print(statistics.mean(x))"
   ]
  }
 ],
 "metadata": {
  "kernelspec": {
   "display_name": "Python 3 (ipykernel)",
   "language": "python",
   "name": "python3"
  },
  "language_info": {
   "codemirror_mode": {
    "name": "ipython",
    "version": 3
   },
   "file_extension": ".py",
   "mimetype": "text/x-python",
   "name": "python",
   "nbconvert_exporter": "python",
   "pygments_lexer": "ipython3",
   "version": "3.9.12"
  }
 },
 "nbformat": 4,
 "nbformat_minor": 5
}
